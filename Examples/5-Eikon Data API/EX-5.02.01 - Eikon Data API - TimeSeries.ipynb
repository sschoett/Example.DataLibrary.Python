{
 "cells": [
  {
   "cell_type": "markdown",
   "metadata": {},
   "source": [
    "----\n",
    "<img src=\"../../files/refinitiv.png\" width=\"20%\" style=\"vertical-align: top;\">\n",
    "\n",
    "# Data Library for Python\n",
    "\n",
    "----"
   ]
  },
  {
   "cell_type": "markdown",
   "metadata": {},
   "source": [
    "## Eikon Data API - Time Series examples\n",
    "This notebook demonstrates how to retrieve Time Series from Eikon or Refinitiv Workspace.\n",
    "\n",
    "#### Learn more\n",
    "To learn more about the Data API just connect to the Refinitiv Developer Community. By [registering](https://developers.refinitiv.com/iam/register) and [login](https://developers.refinitiv.com/iam/login) to the Refinitiv Developer Community portal you will get free access to a number of learning materials like [Quick Start guides](https://developers.refinitiv.com/eikon-apis/eikon-data-api/quick-start), [Tutorials](https://developers.refinitiv.com/eikon-apis/eikon-data-api/learning), [Documentation](https://developers.refinitiv.com/eikon-apis/eikon-data-api/docs) and much more.  \n",
    "\n",
    "#### About the \"eikon\" module of the Refinitiv Data Platform Library\n",
    "The \"eikon\" module of the Refinitiv Data Platform Library for Python embeds all functions of the classical Eikon Data API (\"eikon\" python library). This module works the same as the Eikon Data API and can be used by applications that need the best of the Eikon Data API while taking advantage of the latest features offered by the Refinitiv Data Platform Library for Python. \n",
    "\n",
    "#### Getting Help and Support\n",
    "\n",
    "If you have any questions regarding the API usage, please post them on the [Eikon Data API Q&A Forum](https://community.developers.thomsonreuters.com/spaces/92/index.html). The Refinitiv Developer Community will be happy to help. \n"
   ]
  },
  {
   "cell_type": "markdown",
   "metadata": {},
   "source": [
    "## Import the library and connect to Eikon or Refinitiv Workspace"
   ]
  },
  {
   "cell_type": "code",
   "execution_count": 4,
   "metadata": {},
   "outputs": [],
   "source": [
    "import refinitiv.data.eikon as ek\n",
    "import datetime\n",
    "\n",
    "ek.set_app_key('1e5d227dd54a4efc8ff630df09dd314e4d44ce07')"
   ]
  },
  {
   "cell_type": "markdown",
   "metadata": {},
   "source": [
    "## Get Time Series"
   ]
  },
  {
   "cell_type": "markdown",
   "metadata": {},
   "source": [
    "#### Simple call with default parameters"
   ]
  },
  {
   "cell_type": "code",
   "execution_count": 5,
   "metadata": {},
   "outputs": [
    {
     "data": {
      "text/plain": "VOD.L         HIGH    LOW   OPEN  CLOSE  COUNT     VOLUME\nDate                                                     \n2023-03-27   89.57  88.74  89.15   89.1   5678   32518560\n2023-03-28    89.4  88.06  89.24  88.95   6508  271200225\n2023-03-29   90.17  88.28  88.82  89.83   5950   33529616\n2023-03-30  90.005  89.06   89.7  89.54   6730   46373204\n2023-03-31   89.81  89.07  89.46   89.3   5404   87846373\n...            ...    ...    ...    ...    ...        ...\n2023-06-28   74.42  73.29  73.41  73.66  10274   90448515\n2023-06-29   74.38   73.2   74.0  74.34   6961   49219249\n2023-06-30   74.77  73.81  74.47  73.97   5572   57666637\n2023-07-03   75.31  73.97  74.24  74.32   8459   44663976\n2023-07-04   74.84  73.66  74.41  73.66   3104   29366242\n\n[67 rows x 6 columns]",
      "text/html": "<div>\n<style scoped>\n    .dataframe tbody tr th:only-of-type {\n        vertical-align: middle;\n    }\n\n    .dataframe tbody tr th {\n        vertical-align: top;\n    }\n\n    .dataframe thead th {\n        text-align: right;\n    }\n</style>\n<table border=\"1\" class=\"dataframe\">\n  <thead>\n    <tr style=\"text-align: right;\">\n      <th>VOD.L</th>\n      <th>HIGH</th>\n      <th>LOW</th>\n      <th>OPEN</th>\n      <th>CLOSE</th>\n      <th>COUNT</th>\n      <th>VOLUME</th>\n    </tr>\n    <tr>\n      <th>Date</th>\n      <th></th>\n      <th></th>\n      <th></th>\n      <th></th>\n      <th></th>\n      <th></th>\n    </tr>\n  </thead>\n  <tbody>\n    <tr>\n      <th>2023-03-27</th>\n      <td>89.57</td>\n      <td>88.74</td>\n      <td>89.15</td>\n      <td>89.1</td>\n      <td>5678</td>\n      <td>32518560</td>\n    </tr>\n    <tr>\n      <th>2023-03-28</th>\n      <td>89.4</td>\n      <td>88.06</td>\n      <td>89.24</td>\n      <td>88.95</td>\n      <td>6508</td>\n      <td>271200225</td>\n    </tr>\n    <tr>\n      <th>2023-03-29</th>\n      <td>90.17</td>\n      <td>88.28</td>\n      <td>88.82</td>\n      <td>89.83</td>\n      <td>5950</td>\n      <td>33529616</td>\n    </tr>\n    <tr>\n      <th>2023-03-30</th>\n      <td>90.005</td>\n      <td>89.06</td>\n      <td>89.7</td>\n      <td>89.54</td>\n      <td>6730</td>\n      <td>46373204</td>\n    </tr>\n    <tr>\n      <th>2023-03-31</th>\n      <td>89.81</td>\n      <td>89.07</td>\n      <td>89.46</td>\n      <td>89.3</td>\n      <td>5404</td>\n      <td>87846373</td>\n    </tr>\n    <tr>\n      <th>...</th>\n      <td>...</td>\n      <td>...</td>\n      <td>...</td>\n      <td>...</td>\n      <td>...</td>\n      <td>...</td>\n    </tr>\n    <tr>\n      <th>2023-06-28</th>\n      <td>74.42</td>\n      <td>73.29</td>\n      <td>73.41</td>\n      <td>73.66</td>\n      <td>10274</td>\n      <td>90448515</td>\n    </tr>\n    <tr>\n      <th>2023-06-29</th>\n      <td>74.38</td>\n      <td>73.2</td>\n      <td>74.0</td>\n      <td>74.34</td>\n      <td>6961</td>\n      <td>49219249</td>\n    </tr>\n    <tr>\n      <th>2023-06-30</th>\n      <td>74.77</td>\n      <td>73.81</td>\n      <td>74.47</td>\n      <td>73.97</td>\n      <td>5572</td>\n      <td>57666637</td>\n    </tr>\n    <tr>\n      <th>2023-07-03</th>\n      <td>75.31</td>\n      <td>73.97</td>\n      <td>74.24</td>\n      <td>74.32</td>\n      <td>8459</td>\n      <td>44663976</td>\n    </tr>\n    <tr>\n      <th>2023-07-04</th>\n      <td>74.84</td>\n      <td>73.66</td>\n      <td>74.41</td>\n      <td>73.66</td>\n      <td>3104</td>\n      <td>29366242</td>\n    </tr>\n  </tbody>\n</table>\n<p>67 rows × 6 columns</p>\n</div>"
     },
     "execution_count": 5,
     "metadata": {},
     "output_type": "execute_result"
    }
   ],
   "source": [
    "ek.get_timeseries(['VOD.L'])"
   ]
  },
  {
   "cell_type": "markdown",
   "metadata": {},
   "source": [
    "#### Get Time Series with more parameters"
   ]
  },
  {
   "cell_type": "code",
   "execution_count": 6,
   "metadata": {},
   "outputs": [
    {
     "data": {
      "text/plain": "Security             VOD.L                                         GOOG.O  \\\nField                 HIGH    LOW   OPEN  CLOSE COUNT      VOLUME    HIGH   \nDate                                                                        \n2023-07-03 18:10:00   <NA>   <NA>   <NA>   <NA>  <NA>        <NA>  120.48   \n2023-07-03 18:11:00   <NA>   <NA>   <NA>   <NA>  <NA>        <NA>  120.56   \n2023-07-03 18:12:00   <NA>   <NA>   <NA>   <NA>  <NA>        <NA>  120.42   \n2023-07-03 18:13:00   <NA>   <NA>   <NA>   <NA>  <NA>        <NA>  120.44   \n2023-07-03 18:14:00   <NA>   <NA>   <NA>   <NA>  <NA>        <NA>  120.43   \n...                    ...    ...    ...    ...   ...         ...     ...   \n2023-07-04 15:33:00  73.74  73.14   73.7  73.14    36   291728994    <NA>   \n2023-07-04 15:34:00  73.57  73.14  73.14   73.5    39   351732757    <NA>   \n2023-07-04 15:35:00  73.69   73.5   73.5  73.65   164  2072826809    <NA>   \n2023-07-04 15:36:00  73.66  73.65  73.65  73.66    48   731142356    <NA>   \n2023-07-04 15:38:00  73.66  73.66  73.66  73.66     1       15426    <NA>   \n\nSecurity                                                  \nField                   LOW    OPEN   CLOSE COUNT VOLUME  \nDate                                                      \n2023-07-03 18:10:00  120.42  120.42  120.48     5     14  \n2023-07-03 18:11:00  120.39  120.56  120.42     4    599  \n2023-07-03 18:12:00   120.4   120.4  120.42     2      2  \n2023-07-03 18:13:00   120.4  120.44   120.4     6     78  \n2023-07-03 18:14:00   120.4  120.43   120.4     4     22  \n...                     ...     ...     ...   ...    ...  \n2023-07-04 15:33:00    <NA>    <NA>    <NA>  <NA>   <NA>  \n2023-07-04 15:34:00    <NA>    <NA>    <NA>  <NA>   <NA>  \n2023-07-04 15:35:00    <NA>    <NA>    <NA>  <NA>   <NA>  \n2023-07-04 15:36:00    <NA>    <NA>    <NA>  <NA>   <NA>  \n2023-07-04 15:38:00    <NA>    <NA>    <NA>  <NA>   <NA>  \n\n[640 rows x 12 columns]",
      "text/html": "<div>\n<style scoped>\n    .dataframe tbody tr th:only-of-type {\n        vertical-align: middle;\n    }\n\n    .dataframe tbody tr th {\n        vertical-align: top;\n    }\n\n    .dataframe thead tr th {\n        text-align: left;\n    }\n\n    .dataframe thead tr:last-of-type th {\n        text-align: right;\n    }\n</style>\n<table border=\"1\" class=\"dataframe\">\n  <thead>\n    <tr>\n      <th>Security</th>\n      <th colspan=\"6\" halign=\"left\">VOD.L</th>\n      <th colspan=\"6\" halign=\"left\">GOOG.O</th>\n    </tr>\n    <tr>\n      <th>Field</th>\n      <th>HIGH</th>\n      <th>LOW</th>\n      <th>OPEN</th>\n      <th>CLOSE</th>\n      <th>COUNT</th>\n      <th>VOLUME</th>\n      <th>HIGH</th>\n      <th>LOW</th>\n      <th>OPEN</th>\n      <th>CLOSE</th>\n      <th>COUNT</th>\n      <th>VOLUME</th>\n    </tr>\n    <tr>\n      <th>Date</th>\n      <th></th>\n      <th></th>\n      <th></th>\n      <th></th>\n      <th></th>\n      <th></th>\n      <th></th>\n      <th></th>\n      <th></th>\n      <th></th>\n      <th></th>\n      <th></th>\n    </tr>\n  </thead>\n  <tbody>\n    <tr>\n      <th>2023-07-03 18:10:00</th>\n      <td>&lt;NA&gt;</td>\n      <td>&lt;NA&gt;</td>\n      <td>&lt;NA&gt;</td>\n      <td>&lt;NA&gt;</td>\n      <td>&lt;NA&gt;</td>\n      <td>&lt;NA&gt;</td>\n      <td>120.48</td>\n      <td>120.42</td>\n      <td>120.42</td>\n      <td>120.48</td>\n      <td>5</td>\n      <td>14</td>\n    </tr>\n    <tr>\n      <th>2023-07-03 18:11:00</th>\n      <td>&lt;NA&gt;</td>\n      <td>&lt;NA&gt;</td>\n      <td>&lt;NA&gt;</td>\n      <td>&lt;NA&gt;</td>\n      <td>&lt;NA&gt;</td>\n      <td>&lt;NA&gt;</td>\n      <td>120.56</td>\n      <td>120.39</td>\n      <td>120.56</td>\n      <td>120.42</td>\n      <td>4</td>\n      <td>599</td>\n    </tr>\n    <tr>\n      <th>2023-07-03 18:12:00</th>\n      <td>&lt;NA&gt;</td>\n      <td>&lt;NA&gt;</td>\n      <td>&lt;NA&gt;</td>\n      <td>&lt;NA&gt;</td>\n      <td>&lt;NA&gt;</td>\n      <td>&lt;NA&gt;</td>\n      <td>120.42</td>\n      <td>120.4</td>\n      <td>120.4</td>\n      <td>120.42</td>\n      <td>2</td>\n      <td>2</td>\n    </tr>\n    <tr>\n      <th>2023-07-03 18:13:00</th>\n      <td>&lt;NA&gt;</td>\n      <td>&lt;NA&gt;</td>\n      <td>&lt;NA&gt;</td>\n      <td>&lt;NA&gt;</td>\n      <td>&lt;NA&gt;</td>\n      <td>&lt;NA&gt;</td>\n      <td>120.44</td>\n      <td>120.4</td>\n      <td>120.44</td>\n      <td>120.4</td>\n      <td>6</td>\n      <td>78</td>\n    </tr>\n    <tr>\n      <th>2023-07-03 18:14:00</th>\n      <td>&lt;NA&gt;</td>\n      <td>&lt;NA&gt;</td>\n      <td>&lt;NA&gt;</td>\n      <td>&lt;NA&gt;</td>\n      <td>&lt;NA&gt;</td>\n      <td>&lt;NA&gt;</td>\n      <td>120.43</td>\n      <td>120.4</td>\n      <td>120.43</td>\n      <td>120.4</td>\n      <td>4</td>\n      <td>22</td>\n    </tr>\n    <tr>\n      <th>...</th>\n      <td>...</td>\n      <td>...</td>\n      <td>...</td>\n      <td>...</td>\n      <td>...</td>\n      <td>...</td>\n      <td>...</td>\n      <td>...</td>\n      <td>...</td>\n      <td>...</td>\n      <td>...</td>\n      <td>...</td>\n    </tr>\n    <tr>\n      <th>2023-07-04 15:33:00</th>\n      <td>73.74</td>\n      <td>73.14</td>\n      <td>73.7</td>\n      <td>73.14</td>\n      <td>36</td>\n      <td>291728994</td>\n      <td>&lt;NA&gt;</td>\n      <td>&lt;NA&gt;</td>\n      <td>&lt;NA&gt;</td>\n      <td>&lt;NA&gt;</td>\n      <td>&lt;NA&gt;</td>\n      <td>&lt;NA&gt;</td>\n    </tr>\n    <tr>\n      <th>2023-07-04 15:34:00</th>\n      <td>73.57</td>\n      <td>73.14</td>\n      <td>73.14</td>\n      <td>73.5</td>\n      <td>39</td>\n      <td>351732757</td>\n      <td>&lt;NA&gt;</td>\n      <td>&lt;NA&gt;</td>\n      <td>&lt;NA&gt;</td>\n      <td>&lt;NA&gt;</td>\n      <td>&lt;NA&gt;</td>\n      <td>&lt;NA&gt;</td>\n    </tr>\n    <tr>\n      <th>2023-07-04 15:35:00</th>\n      <td>73.69</td>\n      <td>73.5</td>\n      <td>73.5</td>\n      <td>73.65</td>\n      <td>164</td>\n      <td>2072826809</td>\n      <td>&lt;NA&gt;</td>\n      <td>&lt;NA&gt;</td>\n      <td>&lt;NA&gt;</td>\n      <td>&lt;NA&gt;</td>\n      <td>&lt;NA&gt;</td>\n      <td>&lt;NA&gt;</td>\n    </tr>\n    <tr>\n      <th>2023-07-04 15:36:00</th>\n      <td>73.66</td>\n      <td>73.65</td>\n      <td>73.65</td>\n      <td>73.66</td>\n      <td>48</td>\n      <td>731142356</td>\n      <td>&lt;NA&gt;</td>\n      <td>&lt;NA&gt;</td>\n      <td>&lt;NA&gt;</td>\n      <td>&lt;NA&gt;</td>\n      <td>&lt;NA&gt;</td>\n      <td>&lt;NA&gt;</td>\n    </tr>\n    <tr>\n      <th>2023-07-04 15:38:00</th>\n      <td>73.66</td>\n      <td>73.66</td>\n      <td>73.66</td>\n      <td>73.66</td>\n      <td>1</td>\n      <td>15426</td>\n      <td>&lt;NA&gt;</td>\n      <td>&lt;NA&gt;</td>\n      <td>&lt;NA&gt;</td>\n      <td>&lt;NA&gt;</td>\n      <td>&lt;NA&gt;</td>\n      <td>&lt;NA&gt;</td>\n    </tr>\n  </tbody>\n</table>\n<p>640 rows × 12 columns</p>\n</div>"
     },
     "execution_count": 6,
     "metadata": {},
     "output_type": "execute_result"
    }
   ],
   "source": [
    "ek.get_timeseries(['VOD.L', 'GOOG.O'], \n",
    "                  start_date=datetime.timedelta(-1), \n",
    "                  end_date=datetime.timedelta(0), \n",
    "                  interval='minute')"
   ]
  },
  {
   "cell_type": "code",
   "execution_count": null,
   "metadata": {},
   "outputs": [],
   "source": []
  }
 ],
 "metadata": {
  "kernelspec": {
   "display_name": "Python 3",
   "language": "python",
   "name": "python3"
  },
  "language_info": {
   "codemirror_mode": {
    "name": "ipython",
    "version": 3
   },
   "file_extension": ".py",
   "mimetype": "text/x-python",
   "name": "python",
   "nbconvert_exporter": "python",
   "pygments_lexer": "ipython3",
   "version": "3.7.6"
  }
 },
 "nbformat": 4,
 "nbformat_minor": 4
}
