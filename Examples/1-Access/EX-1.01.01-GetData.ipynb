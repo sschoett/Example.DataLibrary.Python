{
 "cells": [
  {
   "cell_type": "markdown",
   "metadata": {},
   "source": [
    "----\n",
    "<img src=\"../../files/refinitiv.png\" width=\"20%\" style=\"vertical-align: top;\">\n",
    "\n",
    "# Data Library for Python\n",
    "\n",
    "----"
   ]
  },
  {
   "cell_type": "markdown",
   "metadata": {},
   "source": [
    "## Access layer - Get data\n",
    "This notebook demonstrates how to retrieve Pricing snapshots and Fundamental & Reference data using the get_data() function."
   ]
  },
  {
   "cell_type": "markdown",
   "metadata": {},
   "source": [
    "#### About the get_data function\n",
    "The get_data() function allows you to retrieve pricing snapshots as well as Fundamental & Reference data via a single function call.\n",
    "\n",
    "\n",
    "***get_data()*** parameters: \n",
    "- ***universe***: Single instrument or list of instruments to request\n",
    "    - Type: String or list\n",
    "    - Optional: No  \n",
    "- ***fields***: Single field or list of fields to request\n",
    "    - Type: String or list\n",
    "    - Optional: Yes  \n",
    "- ***parameters***: Additional parameters for Fundamental & Reference fields (\"TR.\" fields)\n",
    "    - Type: Dictionary\n",
    "    - Optional: Yes  \n",
    "    \n",
    "**get_data()** returns a pandas.DataFrame with fields in columns and instruments as row index.  \n",
    "It raises exceptions on error and when no data is available"
   ]
  },
  {
   "cell_type": "markdown",
   "metadata": {},
   "source": [
    "#### Learn more\n",
    "\n",
    "To learn more about the Refinitiv Data Library for Python please join the Refinitiv Developer Community. By [registering](https://developers.refinitiv.com/iam/register) and [logging](https://developers.refinitiv.com/content/devportal/en_us/initCookie.html) into the Refinitiv Developer Community portal you will have free access to a number of learning materials like \n",
    " [Quick Start guides](https://developers.refinitiv.com/en/api-catalog/refinitiv-data-platform/refinitiv-data-library-for-python/quick-start), \n",
    " [Tutorials](https://developers.refinitiv.com/en/api-catalog/refinitiv-data-platform/refinitiv-data-library-for-python/learning), \n",
    " [Documentation](https://developers.refinitiv.com/en/api-catalog/refinitiv-data-platform/refinitiv-data-library-for-python/docs)\n",
    " and much more.\n",
    "\n",
    "#### Getting Help and Support\n",
    "\n",
    "If you have any questions regarding using the API, please post them on \n",
    "the [Refinitiv Data Q&A Forum](https://community.developers.refinitiv.com/spaces/321/index.html). \n",
    "The Refinitiv Developer Community will be happy to help. \n",
    "\n",
    "----"
   ]
  },
  {
   "cell_type": "markdown",
   "metadata": {},
   "source": [
    "## Set the configuration file location\n",
    "For a better ease of use, you have the option to set initialization parameters of the Refinitiv Data Library in the _refinitiv-data.config.json_ configuration file. This file must be located beside your notebook, in your user folder or in a folder defined by the _RD_LIB_CONFIG_PATH_ environment variable. The _RD_LIB_CONFIG_PATH_ environment variable is the option used by this series of examples. The following code sets this environment variable.      "
   ]
  },
  {
   "cell_type": "code",
   "execution_count": 1,
   "metadata": {},
   "outputs": [],
   "source": [
    "import os\n",
    "os.environ[\"RD_LIB_CONFIG_PATH\"] = \"../../Configuration\""
   ]
  },
  {
   "cell_type": "markdown",
   "metadata": {},
   "source": [
    "## Some Imports to start with"
   ]
  },
  {
   "cell_type": "code",
   "execution_count": 2,
   "metadata": {},
   "outputs": [],
   "source": [
    "import refinitiv.data as rd"
   ]
  },
  {
   "cell_type": "markdown",
   "metadata": {},
   "source": [
    "## Open the data session\n",
    "\n",
    "The open_session() function creates and open sessions based on the information contained in the refinitiv-data.config.json configuration file. Please edit this file to set the session type and other parameters required for the session you want to open."
   ]
  },
  {
   "cell_type": "code",
   "execution_count": 3,
   "metadata": {},
   "outputs": [
    {
     "data": {
      "text/plain": "<refinitiv.data.session.Definition object at 0x7f7b7132c760 {name='rdp'}>"
     },
     "execution_count": 3,
     "metadata": {},
     "output_type": "execute_result"
    }
   ],
   "source": [
    "rd.open_session()"
   ]
  },
  {
   "cell_type": "markdown",
   "metadata": {},
   "source": [
    "## Retrieve data"
   ]
  },
  {
   "cell_type": "markdown",
   "metadata": {},
   "source": [
    "### Pricing snapshots"
   ]
  },
  {
   "cell_type": "code",
   "execution_count": 7,
   "metadata": {},
   "outputs": [
    {
     "ename": "RDError",
     "evalue": "Error code -1 | EOF occurred in violation of protocol (_ssl.c:2483)",
     "output_type": "error",
     "traceback": [
      "\u001B[0;31m---------------------------------------------------------------------------\u001B[0m",
      "\u001B[0;31mRDError\u001B[0m                                   Traceback (most recent call last)",
      "\u001B[0;32m/var/folders/cv/_19ylw5j4hsbq7ctdf273z3m0000gn/T/ipykernel_32200/900986815.py\u001B[0m in \u001B[0;36m<module>\u001B[0;34m\u001B[0m\n\u001B[0;32m----> 1\u001B[0;31m \u001B[0mrd\u001B[0m\u001B[0;34m.\u001B[0m\u001B[0mget_data\u001B[0m\u001B[0;34m(\u001B[0m\u001B[0;34m[\u001B[0m\u001B[0;34m'LSEG.L'\u001B[0m\u001B[0;34m,\u001B[0m \u001B[0;34m'VOD.L'\u001B[0m\u001B[0;34m]\u001B[0m\u001B[0;34m)\u001B[0m\u001B[0;34m\u001B[0m\u001B[0;34m\u001B[0m\u001B[0m\n\u001B[0m",
      "\u001B[0;32m~/opt/anaconda3/lib/python3.9/site-packages/refinitiv/data/_fin_coder_layer/get_data_func.py\u001B[0m in \u001B[0;36mget_data\u001B[0;34m(universe, fields, parameters, use_field_names_in_headers)\u001B[0m\n\u001B[1;32m     96\u001B[0m     \u001B[0;32mif\u001B[0m \u001B[0mexceptions\u001B[0m \u001B[0;32mand\u001B[0m \u001B[0mall\u001B[0m\u001B[0;34m(\u001B[0m\u001B[0mexceptions\u001B[0m\u001B[0;34m)\u001B[0m\u001B[0;34m:\u001B[0m\u001B[0;34m\u001B[0m\u001B[0;34m\u001B[0m\u001B[0m\n\u001B[1;32m     97\u001B[0m         \u001B[0mexcept_msg\u001B[0m \u001B[0;34m=\u001B[0m \u001B[0;34m\"\\n\\n\"\u001B[0m\u001B[0;34m.\u001B[0m\u001B[0mjoin\u001B[0m\u001B[0;34m(\u001B[0m\u001B[0mexceptions\u001B[0m\u001B[0;34m)\u001B[0m\u001B[0;34m\u001B[0m\u001B[0;34m\u001B[0m\u001B[0m\n\u001B[0;32m---> 98\u001B[0;31m         \u001B[0;32mraise\u001B[0m \u001B[0mRDError\u001B[0m\u001B[0;34m(\u001B[0m\u001B[0;34m-\u001B[0m\u001B[0;36m1\u001B[0m\u001B[0;34m,\u001B[0m \u001B[0mexcept_msg\u001B[0m\u001B[0;34m)\u001B[0m\u001B[0;34m\u001B[0m\u001B[0;34m\u001B[0m\u001B[0m\n\u001B[0m\u001B[1;32m     99\u001B[0m \u001B[0;34m\u001B[0m\u001B[0m\n\u001B[1;32m    100\u001B[0m     \u001B[0mhp_and_cust_inst_data\u001B[0m \u001B[0;34m=\u001B[0m \u001B[0mHPAndCustInstDataContainer\u001B[0m\u001B[0;34m(\u001B[0m\u001B[0mstream_columns\u001B[0m\u001B[0;34m,\u001B[0m \u001B[0mstream_data\u001B[0m\u001B[0;34m,\u001B[0m \u001B[0mstream_df\u001B[0m\u001B[0;34m)\u001B[0m\u001B[0;34m\u001B[0m\u001B[0;34m\u001B[0m\u001B[0m\n",
      "\u001B[0;31mRDError\u001B[0m: Error code -1 | EOF occurred in violation of protocol (_ssl.c:2483)"
     ]
    }
   ],
   "source": [
    "rd.get_data(['LSEG.L', 'VOD.L'])"
   ]
  },
  {
   "cell_type": "code",
   "execution_count": 5,
   "metadata": {},
   "outputs": [
    {
     "data": {
      "text/plain": "Empty DataFrame\nColumns: []\nIndex: []",
      "text/html": "<div>\n<style scoped>\n    .dataframe tbody tr th:only-of-type {\n        vertical-align: middle;\n    }\n\n    .dataframe tbody tr th {\n        vertical-align: top;\n    }\n\n    .dataframe thead th {\n        text-align: right;\n    }\n</style>\n<table border=\"1\" class=\"dataframe\">\n  <thead>\n    <tr style=\"text-align: right;\">\n      <th></th>\n    </tr>\n  </thead>\n  <tbody>\n  </tbody>\n</table>\n</div>"
     },
     "execution_count": 5,
     "metadata": {},
     "output_type": "execute_result"
    }
   ],
   "source": [
    "rd.get_data(\n",
    "    universe=['LSEG.L', 'VOD.L'],\n",
    "    fields=['BID', 'ASK']\n",
    ")"
   ]
  },
  {
   "cell_type": "markdown",
   "metadata": {},
   "source": [
    "### Fundamental data"
   ]
  },
  {
   "cell_type": "code",
   "execution_count": 6,
   "metadata": {},
   "outputs": [
    {
     "data": {
      "text/plain": "  Instrument      Revenue\n0     LSEG.L   7743000000\n1      VOD.L  45706000000",
      "text/html": "<div>\n<style scoped>\n    .dataframe tbody tr th:only-of-type {\n        vertical-align: middle;\n    }\n\n    .dataframe tbody tr th {\n        vertical-align: top;\n    }\n\n    .dataframe thead th {\n        text-align: right;\n    }\n</style>\n<table border=\"1\" class=\"dataframe\">\n  <thead>\n    <tr style=\"text-align: right;\">\n      <th></th>\n      <th>Instrument</th>\n      <th>Revenue</th>\n    </tr>\n  </thead>\n  <tbody>\n    <tr>\n      <th>0</th>\n      <td>LSEG.L</td>\n      <td>7743000000</td>\n    </tr>\n    <tr>\n      <th>1</th>\n      <td>VOD.L</td>\n      <td>45706000000</td>\n    </tr>\n  </tbody>\n</table>\n</div>"
     },
     "execution_count": 6,
     "metadata": {},
     "output_type": "execute_result"
    }
   ],
   "source": [
    "rd.get_data(\n",
    "    universe=['LSEG.L', 'VOD.L'],\n",
    "    fields=['TR.Revenue']    \n",
    ")"
   ]
  },
  {
   "cell_type": "markdown",
   "metadata": {},
   "source": [
    "### Mix of pricing snapshots and fundamental data"
   ]
  },
  {
   "cell_type": "code",
   "execution_count": 8,
   "metadata": {},
   "outputs": [
    {
     "data": {
      "text/plain": "  Instrument      Revenue\n0     LSEG.L   7743000000\n1      VOD.L  45706000000",
      "text/html": "<div>\n<style scoped>\n    .dataframe tbody tr th:only-of-type {\n        vertical-align: middle;\n    }\n\n    .dataframe tbody tr th {\n        vertical-align: top;\n    }\n\n    .dataframe thead th {\n        text-align: right;\n    }\n</style>\n<table border=\"1\" class=\"dataframe\">\n  <thead>\n    <tr style=\"text-align: right;\">\n      <th></th>\n      <th>Instrument</th>\n      <th>Revenue</th>\n    </tr>\n  </thead>\n  <tbody>\n    <tr>\n      <th>0</th>\n      <td>LSEG.L</td>\n      <td>7743000000</td>\n    </tr>\n    <tr>\n      <th>1</th>\n      <td>VOD.L</td>\n      <td>45706000000</td>\n    </tr>\n  </tbody>\n</table>\n</div>"
     },
     "execution_count": 8,
     "metadata": {},
     "output_type": "execute_result"
    }
   ],
   "source": [
    "rd.get_data(\n",
    "    universe=['LSEG.L', 'VOD.L'], \n",
    "    fields=['BID', 'ASK', 'TR.Revenue']\n",
    ")"
   ]
  },
  {
   "cell_type": "markdown",
   "metadata": {},
   "source": [
    "### Fundamental fields with parameters"
   ]
  },
  {
   "cell_type": "code",
   "execution_count": 9,
   "metadata": {},
   "outputs": [
    {
     "data": {
      "text/plain": "  Instrument  Price Target - Mean\n0     LSEG.L           9586.14286\n1      VOD.L            103.51154",
      "text/html": "<div>\n<style scoped>\n    .dataframe tbody tr th:only-of-type {\n        vertical-align: middle;\n    }\n\n    .dataframe tbody tr th {\n        vertical-align: top;\n    }\n\n    .dataframe thead th {\n        text-align: right;\n    }\n</style>\n<table border=\"1\" class=\"dataframe\">\n  <thead>\n    <tr style=\"text-align: right;\">\n      <th></th>\n      <th>Instrument</th>\n      <th>Price Target - Mean</th>\n    </tr>\n  </thead>\n  <tbody>\n    <tr>\n      <th>0</th>\n      <td>LSEG.L</td>\n      <td>9586.14286</td>\n    </tr>\n    <tr>\n      <th>1</th>\n      <td>VOD.L</td>\n      <td>103.51154</td>\n    </tr>\n  </tbody>\n</table>\n</div>"
     },
     "execution_count": 9,
     "metadata": {},
     "output_type": "execute_result"
    }
   ],
   "source": [
    "rd.get_data(\n",
    "    universe=['LSEG.L', 'VOD.L'],\n",
    "    fields=['TR.PriceTargetMean(Source=ThomsonReuters)']\n",
    ")"
   ]
  },
  {
   "cell_type": "markdown",
   "metadata": {},
   "source": [
    "### Fundamental fields with global parameters "
   ]
  },
  {
   "cell_type": "code",
   "execution_count": 10,
   "metadata": {},
   "outputs": [
    {
     "data": {
      "text/plain": "  Instrument  Enterprise Value (Daily Time Series)  \\\n0     LSEG.L                    77536232151.933105   \n1      VOD.L                      129010979414.403   \n\n   Enterprise Value To Sales (Daily Time Series Ratio)  \n0                                           6.523209    \n1                                           1.933286    ",
      "text/html": "<div>\n<style scoped>\n    .dataframe tbody tr th:only-of-type {\n        vertical-align: middle;\n    }\n\n    .dataframe tbody tr th {\n        vertical-align: top;\n    }\n\n    .dataframe thead th {\n        text-align: right;\n    }\n</style>\n<table border=\"1\" class=\"dataframe\">\n  <thead>\n    <tr style=\"text-align: right;\">\n      <th></th>\n      <th>Instrument</th>\n      <th>Enterprise Value (Daily Time Series)</th>\n      <th>Enterprise Value To Sales (Daily Time Series Ratio)</th>\n    </tr>\n  </thead>\n  <tbody>\n    <tr>\n      <th>0</th>\n      <td>LSEG.L</td>\n      <td>77536232151.933105</td>\n      <td>6.523209</td>\n    </tr>\n    <tr>\n      <th>1</th>\n      <td>VOD.L</td>\n      <td>129010979414.403</td>\n      <td>1.933286</td>\n    </tr>\n  </tbody>\n</table>\n</div>"
     },
     "execution_count": 10,
     "metadata": {},
     "output_type": "execute_result"
    }
   ],
   "source": [
    "rd.get_data(\n",
    "    universe=['LSEG.L', 'VOD.L'],\n",
    "    fields=['TR.EV','TR.EVToSales'],\n",
    "    parameters = {'SDate': '0CY', 'Curn': 'CAD'}\n",
    ")"
   ]
  },
  {
   "cell_type": "markdown",
   "metadata": {},
   "source": [
    "### Fundamental fields history (Not recommended - Please use get_history instead)\n",
    "_**Important note:** get\\_data can be used with SDate and EDate parameters to retrieve fundamental time series. However, this practice (shown in the following two examples) is not recommended because it can cause alignment issues. This is due to the nature of get\\_data which was designed for retrieving current data. For time series please use get\\_history()._"
   ]
  },
  {
   "cell_type": "code",
   "execution_count": 13,
   "metadata": {},
   "outputs": [
    {
     "data": {
      "text/html": [
       "<div>\n",
       "<style scoped>\n",
       "    .dataframe tbody tr th:only-of-type {\n",
       "        vertical-align: middle;\n",
       "    }\n",
       "\n",
       "    .dataframe tbody tr th {\n",
       "        vertical-align: top;\n",
       "    }\n",
       "\n",
       "    .dataframe thead th {\n",
       "        text-align: right;\n",
       "    }\n",
       "</style>\n",
       "<table border=\"1\" class=\"dataframe\">\n",
       "  <thead>\n",
       "    <tr style=\"text-align: right;\">\n",
       "      <th></th>\n",
       "      <th>Instrument</th>\n",
       "      <th>Date</th>\n",
       "      <th>Revenue</th>\n",
       "    </tr>\n",
       "  </thead>\n",
       "  <tbody>\n",
       "    <tr>\n",
       "      <th>0</th>\n",
       "      <td>LSEG.L</td>\n",
       "      <td>2021-12-31</td>\n",
       "      <td>6740000000</td>\n",
       "    </tr>\n",
       "    <tr>\n",
       "      <th>1</th>\n",
       "      <td>LSEG.L</td>\n",
       "      <td>2020-12-31</td>\n",
       "      <td>2030000000</td>\n",
       "    </tr>\n",
       "    <tr>\n",
       "      <th>2</th>\n",
       "      <td>LSEG.L</td>\n",
       "      <td>2019-12-31</td>\n",
       "      <td>2314000000</td>\n",
       "    </tr>\n",
       "    <tr>\n",
       "      <th>3</th>\n",
       "      <td>LSEG.L</td>\n",
       "      <td>2018-12-31</td>\n",
       "      <td>2135000000</td>\n",
       "    </tr>\n",
       "    <tr>\n",
       "      <th>4</th>\n",
       "      <td>VOD.L</td>\n",
       "      <td>2022-03-31</td>\n",
       "      <td>45580000000</td>\n",
       "    </tr>\n",
       "    <tr>\n",
       "      <th>5</th>\n",
       "      <td>VOD.L</td>\n",
       "      <td>2021-03-31</td>\n",
       "      <td>43809000000</td>\n",
       "    </tr>\n",
       "    <tr>\n",
       "      <th>6</th>\n",
       "      <td>VOD.L</td>\n",
       "      <td>2020-03-31</td>\n",
       "      <td>44974000000</td>\n",
       "    </tr>\n",
       "    <tr>\n",
       "      <th>7</th>\n",
       "      <td>VOD.L</td>\n",
       "      <td>2019-03-31</td>\n",
       "      <td>43666000000</td>\n",
       "    </tr>\n",
       "  </tbody>\n",
       "</table>\n",
       "</div>"
      ],
      "text/plain": [
       "  Instrument       Date      Revenue\n",
       "0     LSEG.L 2021-12-31   6740000000\n",
       "1     LSEG.L 2020-12-31   2030000000\n",
       "2     LSEG.L 2019-12-31   2314000000\n",
       "3     LSEG.L 2018-12-31   2135000000\n",
       "4      VOD.L 2022-03-31  45580000000\n",
       "5      VOD.L 2021-03-31  43809000000\n",
       "6      VOD.L 2020-03-31  44974000000\n",
       "7      VOD.L 2019-03-31  43666000000"
      ]
     },
     "execution_count": 13,
     "metadata": {},
     "output_type": "execute_result"
    }
   ],
   "source": [
    "rd.get_data(\n",
    "    universe=['LSEG.L', 'VOD.L'], \n",
    "    fields=['TR.Revenue.date', 'TR.Revenue'],\n",
    "    parameters = {'SDate':0, 'EDate':-3}\n",
    ")"
   ]
  },
  {
   "cell_type": "code",
   "execution_count": 14,
   "metadata": {},
   "outputs": [
    {
     "data": {
      "text/html": [
       "<div>\n",
       "<style scoped>\n",
       "    .dataframe tbody tr th:only-of-type {\n",
       "        vertical-align: middle;\n",
       "    }\n",
       "\n",
       "    .dataframe tbody tr th {\n",
       "        vertical-align: top;\n",
       "    }\n",
       "\n",
       "    .dataframe thead th {\n",
       "        text-align: right;\n",
       "    }\n",
       "</style>\n",
       "<table border=\"1\" class=\"dataframe\">\n",
       "  <thead>\n",
       "    <tr style=\"text-align: right;\">\n",
       "      <th></th>\n",
       "      <th>Instrument</th>\n",
       "      <th>Date</th>\n",
       "      <th>Revenue</th>\n",
       "    </tr>\n",
       "  </thead>\n",
       "  <tbody>\n",
       "    <tr>\n",
       "      <th>0</th>\n",
       "      <td>LSEG.L</td>\n",
       "      <td>2021-12-31</td>\n",
       "      <td>6740000000</td>\n",
       "    </tr>\n",
       "    <tr>\n",
       "      <th>1</th>\n",
       "      <td>LSEG.L</td>\n",
       "      <td>2020-12-31</td>\n",
       "      <td>2030000000</td>\n",
       "    </tr>\n",
       "    <tr>\n",
       "      <th>2</th>\n",
       "      <td>LSEG.L</td>\n",
       "      <td>2019-12-31</td>\n",
       "      <td>2314000000</td>\n",
       "    </tr>\n",
       "    <tr>\n",
       "      <th>3</th>\n",
       "      <td>LSEG.L</td>\n",
       "      <td>2018-12-31</td>\n",
       "      <td>2135000000</td>\n",
       "    </tr>\n",
       "    <tr>\n",
       "      <th>4</th>\n",
       "      <td>VOD.L</td>\n",
       "      <td>2022-03-31</td>\n",
       "      <td>45580000000</td>\n",
       "    </tr>\n",
       "    <tr>\n",
       "      <th>5</th>\n",
       "      <td>VOD.L</td>\n",
       "      <td>2021-03-31</td>\n",
       "      <td>43809000000</td>\n",
       "    </tr>\n",
       "    <tr>\n",
       "      <th>6</th>\n",
       "      <td>VOD.L</td>\n",
       "      <td>2020-03-31</td>\n",
       "      <td>44974000000</td>\n",
       "    </tr>\n",
       "    <tr>\n",
       "      <th>7</th>\n",
       "      <td>VOD.L</td>\n",
       "      <td>2019-03-31</td>\n",
       "      <td>43666000000</td>\n",
       "    </tr>\n",
       "  </tbody>\n",
       "</table>\n",
       "</div>"
      ],
      "text/plain": [
       "  Instrument       Date      Revenue\n",
       "0     LSEG.L 2021-12-31   6740000000\n",
       "1     LSEG.L 2020-12-31   2030000000\n",
       "2     LSEG.L 2019-12-31   2314000000\n",
       "3     LSEG.L 2018-12-31   2135000000\n",
       "4      VOD.L 2022-03-31  45580000000\n",
       "5      VOD.L 2021-03-31  43809000000\n",
       "6      VOD.L 2020-03-31  44974000000\n",
       "7      VOD.L 2019-03-31  43666000000"
      ]
     },
     "execution_count": 14,
     "metadata": {},
     "output_type": "execute_result"
    }
   ],
   "source": [
    "rd.get_data(\n",
    "    universe=['LSEG.L', 'VOD.L'], \n",
    "    fields=['TR.Revenue(SDate=0, EDate=-3).date', 'TR.Revenue(SDate=0, EDate=-3)']\n",
    ")"
   ]
  },
  {
   "cell_type": "markdown",
   "metadata": {},
   "source": [
    "### Close the session"
   ]
  },
  {
   "cell_type": "code",
   "execution_count": 11,
   "metadata": {},
   "outputs": [],
   "source": [
    "rd.close_session()"
   ]
  },
  {
   "cell_type": "code",
   "execution_count": null,
   "metadata": {},
   "outputs": [],
   "source": []
  }
 ],
 "metadata": {
  "kernelspec": {
   "display_name": "Python 3 (ipykernel)",
   "language": "python",
   "name": "python3"
  },
  "language_info": {
   "codemirror_mode": {
    "name": "ipython",
    "version": 3
   },
   "file_extension": ".py",
   "mimetype": "text/x-python",
   "name": "python",
   "nbconvert_exporter": "python",
   "pygments_lexer": "ipython3",
   "version": "3.9.7"
  }
 },
 "nbformat": 4,
 "nbformat_minor": 4
}
